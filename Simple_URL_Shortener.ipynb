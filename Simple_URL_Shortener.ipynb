{
  "nbformat": 4,
  "nbformat_minor": 0,
  "metadata": {
    "colab": {
      "provenance": []
    },
    "kernelspec": {
      "name": "python3",
      "display_name": "Python 3"
    },
    "language_info": {
      "name": "python"
    }
  },
  "cells": [
    {
      "cell_type": "markdown",
      "source": [
        "## This is a simple code snippet to shorten URLs."
      ],
      "metadata": {
        "id": "ti2-XIj6cnCq"
      }
    },
    {
      "cell_type": "markdown",
      "source": [
        "1. Install and import pyshorteners library.\n",
        "(https://pypi.org/project/pyshorteners/)"
      ],
      "metadata": {
        "id": "Sjx_a7SDdFvU"
      }
    },
    {
      "cell_type": "code",
      "execution_count": 1,
      "metadata": {
        "colab": {
          "base_uri": "https://localhost:8080/"
        },
        "id": "fQhaYvZlZArc",
        "outputId": "e6bc56ad-adfc-450f-d377-4eaa369fc6b4"
      },
      "outputs": [
        {
          "output_type": "stream",
          "name": "stdout",
          "text": [
            "Requirement already satisfied: pyshorteners in /usr/local/lib/python3.10/dist-packages (1.0.1)\n",
            "Requirement already satisfied: requests in /usr/local/lib/python3.10/dist-packages (from pyshorteners) (2.27.1)\n",
            "Requirement already satisfied: urllib3<1.27,>=1.21.1 in /usr/local/lib/python3.10/dist-packages (from requests->pyshorteners) (1.26.16)\n",
            "Requirement already satisfied: certifi>=2017.4.17 in /usr/local/lib/python3.10/dist-packages (from requests->pyshorteners) (2023.7.22)\n",
            "Requirement already satisfied: charset-normalizer~=2.0.0 in /usr/local/lib/python3.10/dist-packages (from requests->pyshorteners) (2.0.12)\n",
            "Requirement already satisfied: idna<4,>=2.5 in /usr/local/lib/python3.10/dist-packages (from requests->pyshorteners) (3.4)\n"
          ]
        }
      ],
      "source": [
        "!pip install pyshorteners"
      ]
    },
    {
      "cell_type": "code",
      "source": [
        "import pyshorteners"
      ],
      "metadata": {
        "id": "NGbGZmWnZQ5b"
      },
      "execution_count": 2,
      "outputs": []
    },
    {
      "cell_type": "markdown",
      "source": [
        "2. Prompt the user to enter the long URL"
      ],
      "metadata": {
        "id": "1dV95WW9dpyd"
      }
    },
    {
      "cell_type": "code",
      "source": [
        "original_url = input('Enter the URL to shorten : ')"
      ],
      "metadata": {
        "colab": {
          "base_uri": "https://localhost:8080/"
        },
        "id": "U6kqbDyqZdFN",
        "outputId": "fdbfb468-7839-4f7d-f338-52fe6d483192"
      },
      "execution_count": 3,
      "outputs": [
        {
          "name": "stdout",
          "output_type": "stream",
          "text": [
            "Enter the URL to shorten : https://www.researchgate.net/profile/Roshini_Fernando\n"
          ]
        }
      ]
    },
    {
      "cell_type": "markdown",
      "source": [
        "3. Create an instance from the shortener class and use it to initialize the TinyURL shortener service"
      ],
      "metadata": {
        "id": "U-pV0Xzbd6-S"
      }
    },
    {
      "cell_type": "code",
      "source": [
        "shortner_ins = pyshorteners.Shortener()"
      ],
      "metadata": {
        "id": "A0cEIpN0Zz-0"
      },
      "execution_count": 4,
      "outputs": []
    },
    {
      "cell_type": "markdown",
      "source": [
        "4. Shorten the long URL by using TinyURL shortener service"
      ],
      "metadata": {
        "id": "VGVAnfeNec2b"
      }
    },
    {
      "cell_type": "code",
      "source": [
        "new_url = shortner_ins.tinyurl.short(original_url)"
      ],
      "metadata": {
        "id": "DVWr9rGdaXKe"
      },
      "execution_count": 5,
      "outputs": []
    },
    {
      "cell_type": "markdown",
      "source": [
        "5. Display new shortened URL to the user."
      ],
      "metadata": {
        "id": "3ZKZhuieexmH"
      }
    },
    {
      "cell_type": "code",
      "source": [
        "print(\"The shortened URL : \" + new_url)"
      ],
      "metadata": {
        "colab": {
          "base_uri": "https://localhost:8080/"
        },
        "id": "lRBrpiupa7i_",
        "outputId": "322a2ba3-47e3-4571-e560-8daf16e70db1"
      },
      "execution_count": 6,
      "outputs": [
        {
          "output_type": "stream",
          "name": "stdout",
          "text": [
            "The shortened URL : https://tinyurl.com/22maz5kt\n"
          ]
        }
      ]
    },
    {
      "cell_type": "code",
      "source": [],
      "metadata": {
        "id": "-X0lXIrnbQh-"
      },
      "execution_count": 6,
      "outputs": []
    }
  ]
}